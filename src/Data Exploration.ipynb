{
 "cells": [
  {
   "cell_type": "code",
   "execution_count": 1,
   "metadata": {
    "collapsed": true
   },
   "outputs": [],
   "source": [
    "import pandas as pd\n",
    "import numpy as np\n",
    "import matplotlib.pyplot as plt\n",
    "import seaborn as sns\n",
    "sns.set_style('whitegrid')\n",
    "%matplotlib inline"
   ]
  },
  {
   "cell_type": "raw",
   "metadata": {},
   "source": [
    "Load data files"
   ]
  },
  {
   "cell_type": "code",
   "execution_count": 2,
   "metadata": {
    "collapsed": true
   },
   "outputs": [],
   "source": [
    "PROJECT_DATA_PATH = '/Users/tanmaymathur/Documents/personal_workspace/recommender/docs/'\n",
    "USERS_FILE = '{parent_dir}/users.txt'\n",
    "HOTELS_FILE = '{parent_dir}/hotels.txt'\n",
    "ACTIVITY_FILE = '{parent_dir}/activity.txt'\n",
    "SEP = '\\t'"
   ]
  },
  {
   "cell_type": "code",
   "execution_count": 3,
   "metadata": {
    "collapsed": true
   },
   "outputs": [],
   "source": [
    "users_df = pd.read_csv(USERS_FILE.format(parent_dir=PROJECT_DATA_PATH), sep=SEP)\n",
    "hotels_df = pd.read_csv(HOTELS_FILE.format(parent_dir=PROJECT_DATA_PATH), sep=SEP)\n",
    "activity_df = pd.read_csv(ACTIVITY_FILE.format(parent_dir=PROJECT_DATA_PATH), sep=SEP)"
   ]
  },
  {
   "cell_type": "raw",
   "metadata": {},
   "source": [
    "See sample data"
   ]
  },
  {
   "cell_type": "code",
   "execution_count": 5,
   "metadata": {
    "collapsed": false
   },
   "outputs": [
    {
     "name": "stdout",
     "output_type": "stream",
     "text": [
      "Users data:\n",
      "      user  home continent  gender\n",
      "3831  3832               2  female\n",
      "1001  1002               1    male\n",
      "1293  1294               1    male\n",
      "2180  2181               3  female\n",
      "850    851               2  female\n"
     ]
    }
   ],
   "source": [
    "print \"Users data:\\n\", users_df.sample(5)"
   ]
  },
  {
   "cell_type": "code",
   "execution_count": 7,
   "metadata": {
    "collapsed": false
   },
   "outputs": [
    {
     "name": "stdout",
     "output_type": "stream",
     "text": [
      "Hotels data :\n",
      "    hotel  star_rating\n",
      "63     64          5.0\n",
      "3       4          4.0\n",
      "25     26          4.0\n",
      "32     33          3.5\n",
      "15     16          4.5\n"
     ]
    }
   ],
   "source": [
    "print \"Hotels data :\\n\", hotels_df.sample(5)"
   ]
  },
  {
   "cell_type": "code",
   "execution_count": 8,
   "metadata": {
    "collapsed": false
   },
   "outputs": [
    {
     "name": "stdout",
     "output_type": "stream",
     "text": [
      "Activity data :\n",
      "       user  hotel\n",
      "14154  3699     56\n",
      "15681  4111     46\n",
      "8922   2357     45\n",
      "14545  3804     52\n",
      "10784  2809     39\n"
     ]
    }
   ],
   "source": [
    "print \"Activity data :\\n\", activity_df.sample(5)"
   ]
  },
  {
   "cell_type": "raw",
   "metadata": {},
   "source": [
    "Data Exploration"
   ]
  },
  {
   "cell_type": "code",
   "execution_count": 25,
   "metadata": {
    "collapsed": false
   },
   "outputs": [
    {
     "name": "stdout",
     "output_type": "stream",
     "text": [
      "Unique continents are : set([1, 2, 3, 4, 5, 6, 7])\n",
      "Number of unique continents are :  7\n"
     ]
    }
   ],
   "source": [
    "\"\"\"Lets count the number of unique home continents\"\"\"\n",
    "print \"Unique continents are :\",set(users_df['home continent'])\n",
    "print \"Number of unique continents are : \", len(set(users_df['home continent']))"
   ]
  },
  {
   "cell_type": "code",
   "execution_count": 116,
   "metadata": {
    "collapsed": false
   },
   "outputs": [
    {
     "data": {
      "text/plain": [
       "<matplotlib.axes._subplots.AxesSubplot at 0x11d79ae90>"
      ]
     },
     "execution_count": 116,
     "metadata": {},
     "output_type": "execute_result"
    },
    {
     "data": {
      "image/png": "[encoded data removed]",
      "text/plain": [
       "<matplotlib.figure.Figure at 0x11707c550>"
      ]
     },
     "metadata": {},
     "output_type": "display_data"
    }
   ],
   "source": [
    "\"Distribution of users per continent\"\n",
    "users_df['home continent'].value_counts().plot(kind='bar',colormap=\"Set3\",figsize=(15,5))"
   ]
  },
  {
   "cell_type": "code",
   "execution_count": 118,
   "metadata": {
    "collapsed": false
   },
   "outputs": [],
   "source": [
    "#Q1a. What continent is the hotel in?\n",
    "\"\"\"To answer the above question we do the following steps:\n",
    "1. Merge users and activity data\n",
    "2. Identify unique rows by user id and hotel id\n",
    "2. Group and count the hotels by hotel id and home continent id\n",
    "3. Sort the grouped result and pick the majority home continent id for hotel id\n",
    "\n",
    "Assumption: Majority users in our dataset dont travel across continents\n",
    "\"\"\"\n",
    "users_activity_df = pd.merge(users_df, activity_df, how='inner', on='user')\n",
    "unique_users_activity_df = users_activity_df.drop_duplicates(['user','hotel'])\n",
    "hotel_home_continent_df = unique_users_activity_df.groupby(['hotel','home continent']).size().reset_index(name='counts').sort_values(['hotel','counts'], ascending=False)\n",
    "idx = hotel_home_continent_df.groupby(['hotel'])['counts'].transform(max) == hotel_home_continent_df['counts']\n",
    "hotel_continent = hotel_home_continent_df[idx]"
   ]
  },
  {
   "cell_type": "code",
   "execution_count": 120,
   "metadata": {
    "collapsed": false
   },
   "outputs": [
    {
     "data": {
      "text/html": [
       "<div>\n",
       "<table border=\"1\" class=\"dataframe\">\n",
       "  <thead>\n",
       "    <tr style=\"text-align: right;\">\n",
       "      <th></th>\n",
       "      <th>hotel</th>\n",
       "      <th>home continent</th>\n",
       "      <th>counts</th>\n",
       "    </tr>\n",
       "  </thead>\n",
       "  <tbody>\n",
       "    <tr>\n",
       "      <th>415</th>\n",
       "      <td>66</td>\n",
       "      <td>2</td>\n",
       "      <td>238</td>\n",
       "    </tr>\n",
       "    <tr>\n",
       "      <th>414</th>\n",
       "      <td>66</td>\n",
       "      <td>1</td>\n",
       "      <td>66</td>\n",
       "    </tr>\n",
       "    <tr>\n",
       "      <th>417</th>\n",
       "      <td>66</td>\n",
       "      <td>4</td>\n",
       "      <td>15</td>\n",
       "    </tr>\n",
       "    <tr>\n",
       "      <th>416</th>\n",
       "      <td>66</td>\n",
       "      <td>3</td>\n",
       "      <td>9</td>\n",
       "    </tr>\n",
       "    <tr>\n",
       "      <th>418</th>\n",
       "      <td>66</td>\n",
       "      <td>5</td>\n",
       "      <td>7</td>\n",
       "    </tr>\n",
       "    <tr>\n",
       "      <th>419</th>\n",
       "      <td>66</td>\n",
       "      <td>7</td>\n",
       "      <td>1</td>\n",
       "    </tr>\n",
       "    <tr>\n",
       "      <th>410</th>\n",
       "      <td>65</td>\n",
       "      <td>2</td>\n",
       "      <td>87</td>\n",
       "    </tr>\n",
       "    <tr>\n",
       "      <th>409</th>\n",
       "      <td>65</td>\n",
       "      <td>1</td>\n",
       "      <td>23</td>\n",
       "    </tr>\n",
       "    <tr>\n",
       "      <th>412</th>\n",
       "      <td>65</td>\n",
       "      <td>4</td>\n",
       "      <td>4</td>\n",
       "    </tr>\n",
       "    <tr>\n",
       "      <th>413</th>\n",
       "      <td>65</td>\n",
       "      <td>5</td>\n",
       "      <td>4</td>\n",
       "    </tr>\n",
       "  </tbody>\n",
       "</table>\n",
       "</div>"
      ],
      "text/plain": [
       "     hotel  home continent  counts\n",
       "415     66               2     238\n",
       "414     66               1      66\n",
       "417     66               4      15\n",
       "416     66               3       9\n",
       "418     66               5       7\n",
       "419     66               7       1\n",
       "410     65               2      87\n",
       "409     65               1      23\n",
       "412     65               4       4\n",
       "413     65               5       4"
      ]
     },
     "execution_count": 120,
     "metadata": {},
     "output_type": "execute_result"
    }
   ],
   "source": [
    "\"\"\"The result below shows that the hotel can be visited by users from different continents but based on our assumptions,\n",
    "we assign hotel to the continent with highest user home continent count\"\"\"\n",
    "hotel_home_continent_df.head(10)"
   ]
  },
  {
   "cell_type": "code",
   "execution_count": 121,
   "metadata": {
    "collapsed": false
   },
   "outputs": [
    {
     "data": {
      "text/html": [
       "<div>\n",
       "<table border=\"1\" class=\"dataframe\">\n",
       "  <thead>\n",
       "    <tr style=\"text-align: right;\">\n",
       "      <th></th>\n",
       "      <th>hotel</th>\n",
       "      <th>home continent</th>\n",
       "      <th>counts</th>\n",
       "    </tr>\n",
       "  </thead>\n",
       "  <tbody>\n",
       "  </tbody>\n",
       "</table>\n",
       "</div>"
      ],
      "text/plain": [
       "Empty DataFrame\n",
       "Columns: [hotel, home continent, counts]\n",
       "Index: []"
      ]
     },
     "execution_count": 121,
     "metadata": {},
     "output_type": "execute_result"
    }
   ],
   "source": [
    "\"\"\"Based on our majority hypothesis, we see that all hotels belong to continent 2, which is not very useful information\"\"\"\n",
    "hotel_continent[hotel_continent['home continent'] !=2]"
   ]
  },
  {
   "cell_type": "code",
   "execution_count": 32,
   "metadata": {
    "collapsed": true
   },
   "outputs": [],
   "source": [
    "#Q1b. What continent is the hotel in? Try to answer the same question but by changing the our second step\n",
    "\"\"\"To answer the above question we do the following steps:\n",
    "1. Merge users and activity data\n",
    "2. We dont identify unique user to hotel visits because the frequency can be a good indicator of home continent\n",
    "2. Group and count the hotels by hotel id and home continent id\n",
    "3. Sort the grouped result and pick the majority home continent id for hotel id\n",
    "Assumption: Majority users in our dataset dont travel across continents\n",
    "\"\"\"\n",
    "users_activity_df = pd.merge(users_df, activity_df, how='inner', on='user')\n",
    "hotel_home_continent_df = users_activity_df.groupby(['hotel','home continent']).size().reset_index(name='counts').sort_values(['hotel','counts'], ascending=False)"
   ]
  },
  {
   "cell_type": "code",
   "execution_count": 33,
   "metadata": {
    "collapsed": false
   },
   "outputs": [
    {
     "data": {
      "text/html": [
       "<div>\n",
       "<table border=\"1\" class=\"dataframe\">\n",
       "  <thead>\n",
       "    <tr style=\"text-align: right;\">\n",
       "      <th></th>\n",
       "      <th>hotel</th>\n",
       "      <th>home continent</th>\n",
       "      <th>counts</th>\n",
       "    </tr>\n",
       "  </thead>\n",
       "  <tbody>\n",
       "    <tr>\n",
       "      <th>415</th>\n",
       "      <td>66</td>\n",
       "      <td>2</td>\n",
       "      <td>238</td>\n",
       "    </tr>\n",
       "    <tr>\n",
       "      <th>414</th>\n",
       "      <td>66</td>\n",
       "      <td>1</td>\n",
       "      <td>66</td>\n",
       "    </tr>\n",
       "    <tr>\n",
       "      <th>417</th>\n",
       "      <td>66</td>\n",
       "      <td>4</td>\n",
       "      <td>15</td>\n",
       "    </tr>\n",
       "    <tr>\n",
       "      <th>416</th>\n",
       "      <td>66</td>\n",
       "      <td>3</td>\n",
       "      <td>9</td>\n",
       "    </tr>\n",
       "    <tr>\n",
       "      <th>418</th>\n",
       "      <td>66</td>\n",
       "      <td>5</td>\n",
       "      <td>7</td>\n",
       "    </tr>\n",
       "    <tr>\n",
       "      <th>419</th>\n",
       "      <td>66</td>\n",
       "      <td>7</td>\n",
       "      <td>1</td>\n",
       "    </tr>\n",
       "    <tr>\n",
       "      <th>410</th>\n",
       "      <td>65</td>\n",
       "      <td>2</td>\n",
       "      <td>87</td>\n",
       "    </tr>\n",
       "    <tr>\n",
       "      <th>409</th>\n",
       "      <td>65</td>\n",
       "      <td>1</td>\n",
       "      <td>23</td>\n",
       "    </tr>\n",
       "    <tr>\n",
       "      <th>412</th>\n",
       "      <td>65</td>\n",
       "      <td>4</td>\n",
       "      <td>4</td>\n",
       "    </tr>\n",
       "    <tr>\n",
       "      <th>413</th>\n",
       "      <td>65</td>\n",
       "      <td>5</td>\n",
       "      <td>4</td>\n",
       "    </tr>\n",
       "  </tbody>\n",
       "</table>\n",
       "</div>"
      ],
      "text/plain": [
       "     hotel  home continent  counts\n",
       "415     66               2     238\n",
       "414     66               1      66\n",
       "417     66               4      15\n",
       "416     66               3       9\n",
       "418     66               5       7\n",
       "419     66               7       1\n",
       "410     65               2      87\n",
       "409     65               1      23\n",
       "412     65               4       4\n",
       "413     65               5       4"
      ]
     },
     "execution_count": 33,
     "metadata": {},
     "output_type": "execute_result"
    }
   ],
   "source": [
    "\"\"\"The result below shows that the hotel can be visited by users from different continents but based on our assumptions,\n",
    "we assign hotel to the continent with highest user home continent count\"\"\"\n",
    "hotel_home_continent_df.head(10)\n",
    "\"\"\"Looking at the data, no user has visited the same hotel twice and hence does not contribute to finding the home continent\"\"\""
   ]
  },
  {
   "cell_type": "code",
   "execution_count": 122,
   "metadata": {
    "collapsed": false
   },
   "outputs": [
    {
     "data": {
      "text/plain": [
       "'Creating a new column for hotels to tell which continents do the users come from'"
      ]
     },
     "execution_count": 122,
     "metadata": {},
     "output_type": "execute_result"
    }
   ],
   "source": [
    "\"\"\"Creating a new column for hotels to tell which continents do the majority users come from (Will be done on training set)\"\"\""
   ]
  },
  {
   "cell_type": "code",
   "execution_count": 134,
   "metadata": {
    "collapsed": false
   },
   "outputs": [],
   "source": [
    "hotel_home_continent_df['counts'] = hotel_home_continent_df['counts'].groupby(hotel_home_continent_df['hotel']).transform(lambda x: np.where(x>=np.median(x), x, np.NaN))\n",
    "hotel_home_continent_df = hotel_home_continent_df.dropna()\n",
    "hotel_home_continent_df['home continent'] = hotel_home_continent_df['home continent'].astype(str)\n",
    "hotel_home_continent_df.groupby(['hotel'])['home continent'].apply(','.join).reset_index()"
   ]
  },
  {
   "cell_type": "code",
   "execution_count": 50,
   "metadata": {
    "collapsed": false
   },
   "outputs": [
    {
     "data": {
      "text/plain": [
       "<matplotlib.axes._subplots.AxesSubplot at 0x1176a2e90>"
      ]
     },
     "execution_count": 50,
     "metadata": {},
     "output_type": "execute_result"
    },
    {
     "data": {
      "image/png": "[encoded data removed]",
      "text/plain": [
       "<matplotlib.figure.Figure at 0x1171cae50>"
      ]
     },
     "metadata": {},
     "output_type": "display_data"
    }
   ],
   "source": [
    "# Q2. What are the most visited hotels?\n",
    "mean = users_activity_df.groupby(['hotel']).size().mean()\n",
    "users_activity_df.groupby(['hotel']).agg(['mean','count'])\n",
    "fig, (axis1) = plt.subplots(1,1,figsize=(15,3))\n",
    "sns.countplot(x='hotel', data=users_activity_df, palette=\"Set3\")"
   ]
  },
  {
   "cell_type": "code",
   "execution_count": 53,
   "metadata": {
    "collapsed": false
   },
   "outputs": [
    {
     "data": {
      "text/plain": [
       "<matplotlib.axes._subplots.AxesSubplot at 0x1176c33d0>"
      ]
     },
     "execution_count": 53,
     "metadata": {},
     "output_type": "execute_result"
    },
    {
     "data": {
      "image/png": "[encoded data removed]",
      "text/plain": [
       "<matplotlib.figure.Figure at 0x117906e10>"
      ]
     },
     "metadata": {},
     "output_type": "display_data"
    }
   ],
   "source": [
    "\"Plot hotels that have activity more than mean\"\n",
    "hotel_activity_count = users_activity_df.groupby(['hotel']).size().reset_index(name='counts')\n",
    "hotel_activity_more_than_mean = hotel_activity_count[hotel_activity_count['counts']>mean]\n",
    "filtered_hotels = pd.merge(users_activity_df, hotel_activity_more_than_mean, on='hotel')\n",
    "sns.countplot(x='hotel', data=filtered_hotels, palette=\"Set3\")"
   ]
  },
  {
   "cell_type": "code",
   "execution_count": 61,
   "metadata": {
    "collapsed": false
   },
   "outputs": [
    {
     "data": {
      "text/plain": [
       "<matplotlib.axes._subplots.AxesSubplot at 0x1175e3f50>"
      ]
     },
     "execution_count": 61,
     "metadata": {},
     "output_type": "execute_result"
    },
    {
     "data": {
      "image/png": "[encoded data removed]",
      "text/plain": [
       "<matplotlib.figure.Figure at 0x1175a0710>"
      ]
     },
     "metadata": {},
     "output_type": "display_data"
    }
   ],
   "source": [
    "\"\"\"Count number of hotels visited by every user\"\"\"\n",
    "fig, (axis1) = plt.subplots(1,1,figsize=(15,3))\n",
    "sns.distplot(users_activity_df['user'], label='Number of hotels visited by every user')"
   ]
  },
  {
   "cell_type": "code",
   "execution_count": 66,
   "metadata": {
    "collapsed": false
   },
   "outputs": [
    {
     "data": {
      "text/plain": [
       "<matplotlib.axes._subplots.AxesSubplot at 0x11ae2d750>"
      ]
     },
     "execution_count": 66,
     "metadata": {},
     "output_type": "execute_result"
    },
    {
     "data": {
      "image/png": "[encoded data removed]",
      "text/plain": [
       "<matplotlib.figure.Figure at 0x11a51d710>"
      ]
     },
     "metadata": {},
     "output_type": "display_data"
    }
   ],
   "source": [
    "\"Distribution of users per continent\"\n",
    "users_df['home continent'].value_counts().plot(kind='bar',colormap=\"Set3\",figsize=(15,5))"
   ]
  },
  {
   "cell_type": "code",
   "execution_count": 148,
   "metadata": {
    "collapsed": false
   },
   "outputs": [
    {
     "data": {
      "text/html": [
       "<div>\n",
       "<table border=\"1\" class=\"dataframe\">\n",
       "  <thead>\n",
       "    <tr style=\"text-align: right;\">\n",
       "      <th></th>\n",
       "      <th>user</th>\n",
       "      <th>hotel</th>\n",
       "    </tr>\n",
       "  </thead>\n",
       "  <tbody>\n",
       "    <tr>\n",
       "      <th>0</th>\n",
       "      <td>1</td>\n",
       "      <td>39,44</td>\n",
       "    </tr>\n",
       "    <tr>\n",
       "      <th>1</th>\n",
       "      <td>2</td>\n",
       "      <td>63,2</td>\n",
       "    </tr>\n",
       "    <tr>\n",
       "      <th>2</th>\n",
       "      <td>3</td>\n",
       "      <td>26,37,63,4,51,52,7,35</td>\n",
       "    </tr>\n",
       "    <tr>\n",
       "      <th>3</th>\n",
       "      <td>4</td>\n",
       "      <td>63,52</td>\n",
       "    </tr>\n",
       "    <tr>\n",
       "      <th>4</th>\n",
       "      <td>5</td>\n",
       "      <td>12,17,60,59</td>\n",
       "    </tr>\n",
       "    <tr>\n",
       "      <th>5</th>\n",
       "      <td>6</td>\n",
       "      <td>37,58,2,46,24,56</td>\n",
       "    </tr>\n",
       "    <tr>\n",
       "      <th>6</th>\n",
       "      <td>7</td>\n",
       "      <td>49,59,18</td>\n",
       "    </tr>\n",
       "    <tr>\n",
       "      <th>7</th>\n",
       "      <td>8</td>\n",
       "      <td>53,60,66</td>\n",
       "    </tr>\n",
       "    <tr>\n",
       "      <th>8</th>\n",
       "      <td>9</td>\n",
       "      <td>50,43</td>\n",
       "    </tr>\n",
       "    <tr>\n",
       "      <th>9</th>\n",
       "      <td>10</td>\n",
       "      <td>59,7</td>\n",
       "    </tr>\n",
       "    <tr>\n",
       "      <th>10</th>\n",
       "      <td>11</td>\n",
       "      <td>28,4</td>\n",
       "    </tr>\n",
       "    <tr>\n",
       "      <th>11</th>\n",
       "      <td>12</td>\n",
       "      <td>59,55</td>\n",
       "    </tr>\n",
       "    <tr>\n",
       "      <th>12</th>\n",
       "      <td>13</td>\n",
       "      <td>60,4,56</td>\n",
       "    </tr>\n",
       "    <tr>\n",
       "      <th>13</th>\n",
       "      <td>14</td>\n",
       "      <td>60,49,41,46</td>\n",
       "    </tr>\n",
       "    <tr>\n",
       "      <th>14</th>\n",
       "      <td>15</td>\n",
       "      <td>56,60</td>\n",
       "    </tr>\n",
       "    <tr>\n",
       "      <th>15</th>\n",
       "      <td>16</td>\n",
       "      <td>39,56</td>\n",
       "    </tr>\n",
       "    <tr>\n",
       "      <th>16</th>\n",
       "      <td>17</td>\n",
       "      <td>6,56,8,47,18,24,11,61,30,23</td>\n",
       "    </tr>\n",
       "    <tr>\n",
       "      <th>17</th>\n",
       "      <td>18</td>\n",
       "      <td>1,38,59,26,49,41</td>\n",
       "    </tr>\n",
       "    <tr>\n",
       "      <th>18</th>\n",
       "      <td>19</td>\n",
       "      <td>56,17</td>\n",
       "    </tr>\n",
       "    <tr>\n",
       "      <th>19</th>\n",
       "      <td>20</td>\n",
       "      <td>59,60,15,56</td>\n",
       "    </tr>\n",
       "    <tr>\n",
       "      <th>20</th>\n",
       "      <td>21</td>\n",
       "      <td>63,37,17,56</td>\n",
       "    </tr>\n",
       "    <tr>\n",
       "      <th>21</th>\n",
       "      <td>22</td>\n",
       "      <td>7,34,62,50</td>\n",
       "    </tr>\n",
       "    <tr>\n",
       "      <th>22</th>\n",
       "      <td>23</td>\n",
       "      <td>15,60</td>\n",
       "    </tr>\n",
       "    <tr>\n",
       "      <th>23</th>\n",
       "      <td>24</td>\n",
       "      <td>18,39</td>\n",
       "    </tr>\n",
       "    <tr>\n",
       "      <th>24</th>\n",
       "      <td>25</td>\n",
       "      <td>57,5</td>\n",
       "    </tr>\n",
       "    <tr>\n",
       "      <th>25</th>\n",
       "      <td>26</td>\n",
       "      <td>17,56,66</td>\n",
       "    </tr>\n",
       "    <tr>\n",
       "      <th>26</th>\n",
       "      <td>27</td>\n",
       "      <td>39,40,37,46</td>\n",
       "    </tr>\n",
       "    <tr>\n",
       "      <th>27</th>\n",
       "      <td>28</td>\n",
       "      <td>66,50,17,55,60</td>\n",
       "    </tr>\n",
       "    <tr>\n",
       "      <th>28</th>\n",
       "      <td>29</td>\n",
       "      <td>26,60</td>\n",
       "    </tr>\n",
       "    <tr>\n",
       "      <th>29</th>\n",
       "      <td>30</td>\n",
       "      <td>10,18</td>\n",
       "    </tr>\n",
       "    <tr>\n",
       "      <th>...</th>\n",
       "      <td>...</td>\n",
       "      <td>...</td>\n",
       "    </tr>\n",
       "    <tr>\n",
       "      <th>4514</th>\n",
       "      <td>4515</td>\n",
       "      <td>65,34,23,28</td>\n",
       "    </tr>\n",
       "    <tr>\n",
       "      <th>4515</th>\n",
       "      <td>4516</td>\n",
       "      <td>33,46,59,55,49</td>\n",
       "    </tr>\n",
       "    <tr>\n",
       "      <th>4516</th>\n",
       "      <td>4517</td>\n",
       "      <td>60,43,56,34</td>\n",
       "    </tr>\n",
       "    <tr>\n",
       "      <th>4517</th>\n",
       "      <td>4518</td>\n",
       "      <td>14,6</td>\n",
       "    </tr>\n",
       "    <tr>\n",
       "      <th>4518</th>\n",
       "      <td>4519</td>\n",
       "      <td>42,59,33</td>\n",
       "    </tr>\n",
       "    <tr>\n",
       "      <th>4519</th>\n",
       "      <td>4520</td>\n",
       "      <td>37,56,43,14,38,10,17</td>\n",
       "    </tr>\n",
       "    <tr>\n",
       "      <th>4520</th>\n",
       "      <td>4521</td>\n",
       "      <td>43,38</td>\n",
       "    </tr>\n",
       "    <tr>\n",
       "      <th>4521</th>\n",
       "      <td>4522</td>\n",
       "      <td>37,7</td>\n",
       "    </tr>\n",
       "    <tr>\n",
       "      <th>4522</th>\n",
       "      <td>4523</td>\n",
       "      <td>39,16</td>\n",
       "    </tr>\n",
       "    <tr>\n",
       "      <th>4523</th>\n",
       "      <td>4524</td>\n",
       "      <td>40,60</td>\n",
       "    </tr>\n",
       "    <tr>\n",
       "      <th>4524</th>\n",
       "      <td>4525</td>\n",
       "      <td>56,61,55,11</td>\n",
       "    </tr>\n",
       "    <tr>\n",
       "      <th>4525</th>\n",
       "      <td>4526</td>\n",
       "      <td>41,4,46,15,60,56</td>\n",
       "    </tr>\n",
       "    <tr>\n",
       "      <th>4526</th>\n",
       "      <td>4527</td>\n",
       "      <td>61,49</td>\n",
       "    </tr>\n",
       "    <tr>\n",
       "      <th>4527</th>\n",
       "      <td>4528</td>\n",
       "      <td>5,39</td>\n",
       "    </tr>\n",
       "    <tr>\n",
       "      <th>4528</th>\n",
       "      <td>4529</td>\n",
       "      <td>53,2</td>\n",
       "    </tr>\n",
       "    <tr>\n",
       "      <th>4529</th>\n",
       "      <td>4530</td>\n",
       "      <td>37,39</td>\n",
       "    </tr>\n",
       "    <tr>\n",
       "      <th>4530</th>\n",
       "      <td>4531</td>\n",
       "      <td>12,48</td>\n",
       "    </tr>\n",
       "    <tr>\n",
       "      <th>4531</th>\n",
       "      <td>4532</td>\n",
       "      <td>37,43,52</td>\n",
       "    </tr>\n",
       "    <tr>\n",
       "      <th>4532</th>\n",
       "      <td>4533</td>\n",
       "      <td>45,12</td>\n",
       "    </tr>\n",
       "    <tr>\n",
       "      <th>4533</th>\n",
       "      <td>4534</td>\n",
       "      <td>60,7</td>\n",
       "    </tr>\n",
       "    <tr>\n",
       "      <th>4534</th>\n",
       "      <td>4535</td>\n",
       "      <td>55,26,56,17</td>\n",
       "    </tr>\n",
       "    <tr>\n",
       "      <th>4535</th>\n",
       "      <td>4536</td>\n",
       "      <td>40,37,16,66</td>\n",
       "    </tr>\n",
       "    <tr>\n",
       "      <th>4536</th>\n",
       "      <td>4537</td>\n",
       "      <td>53,65,11,30,2,45,28,55,14,23</td>\n",
       "    </tr>\n",
       "    <tr>\n",
       "      <th>4537</th>\n",
       "      <td>4538</td>\n",
       "      <td>60,17,43,56,49</td>\n",
       "    </tr>\n",
       "    <tr>\n",
       "      <th>4538</th>\n",
       "      <td>4539</td>\n",
       "      <td>43,37</td>\n",
       "    </tr>\n",
       "    <tr>\n",
       "      <th>4539</th>\n",
       "      <td>4540</td>\n",
       "      <td>39,13</td>\n",
       "    </tr>\n",
       "    <tr>\n",
       "      <th>4540</th>\n",
       "      <td>4541</td>\n",
       "      <td>17,30,37</td>\n",
       "    </tr>\n",
       "    <tr>\n",
       "      <th>4541</th>\n",
       "      <td>4542</td>\n",
       "      <td>60,17,56,3</td>\n",
       "    </tr>\n",
       "    <tr>\n",
       "      <th>4542</th>\n",
       "      <td>4543</td>\n",
       "      <td>2,39</td>\n",
       "    </tr>\n",
       "    <tr>\n",
       "      <th>4543</th>\n",
       "      <td>4544</td>\n",
       "      <td>20,53,42,18,36,1,61,47,27,39,45,10,11</td>\n",
       "    </tr>\n",
       "  </tbody>\n",
       "</table>\n",
       "<p>4544 rows × 2 columns</p>\n",
       "</div>"
      ],
      "text/plain": [
       "      user                                  hotel\n",
       "0        1                                  39,44\n",
       "1        2                                   63,2\n",
       "2        3                  26,37,63,4,51,52,7,35\n",
       "3        4                                  63,52\n",
       "4        5                            12,17,60,59\n",
       "5        6                       37,58,2,46,24,56\n",
       "6        7                               49,59,18\n",
       "7        8                               53,60,66\n",
       "8        9                                  50,43\n",
       "9       10                                   59,7\n",
       "10      11                                   28,4\n",
       "11      12                                  59,55\n",
       "12      13                                60,4,56\n",
       "13      14                            60,49,41,46\n",
       "14      15                                  56,60\n",
       "15      16                                  39,56\n",
       "16      17            6,56,8,47,18,24,11,61,30,23\n",
       "17      18                       1,38,59,26,49,41\n",
       "18      19                                  56,17\n",
       "19      20                            59,60,15,56\n",
       "20      21                            63,37,17,56\n",
       "21      22                             7,34,62,50\n",
       "22      23                                  15,60\n",
       "23      24                                  18,39\n",
       "24      25                                   57,5\n",
       "25      26                               17,56,66\n",
       "26      27                            39,40,37,46\n",
       "27      28                         66,50,17,55,60\n",
       "28      29                                  26,60\n",
       "29      30                                  10,18\n",
       "...    ...                                    ...\n",
       "4514  4515                            65,34,23,28\n",
       "4515  4516                         33,46,59,55,49\n",
       "4516  4517                            60,43,56,34\n",
       "4517  4518                                   14,6\n",
       "4518  4519                               42,59,33\n",
       "4519  4520                   37,56,43,14,38,10,17\n",
       "4520  4521                                  43,38\n",
       "4521  4522                                   37,7\n",
       "4522  4523                                  39,16\n",
       "4523  4524                                  40,60\n",
       "4524  4525                            56,61,55,11\n",
       "4525  4526                       41,4,46,15,60,56\n",
       "4526  4527                                  61,49\n",
       "4527  4528                                   5,39\n",
       "4528  4529                                   53,2\n",
       "4529  4530                                  37,39\n",
       "4530  4531                                  12,48\n",
       "4531  4532                               37,43,52\n",
       "4532  4533                                  45,12\n",
       "4533  4534                                   60,7\n",
       "4534  4535                            55,26,56,17\n",
       "4535  4536                            40,37,16,66\n",
       "4536  4537           53,65,11,30,2,45,28,55,14,23\n",
       "4537  4538                         60,17,43,56,49\n",
       "4538  4539                                  43,37\n",
       "4539  4540                                  39,13\n",
       "4540  4541                               17,30,37\n",
       "4541  4542                             60,17,56,3\n",
       "4542  4543                                   2,39\n",
       "4543  4544  20,53,42,18,36,1,61,47,27,39,45,10,11\n",
       "\n",
       "[4544 rows x 2 columns]"
      ]
     },
     "execution_count": 148,
     "metadata": {},
     "output_type": "execute_result"
    }
   ],
   "source": [
    "\"\"\"Add user history information to each user record. Will be used as feature\"\"\"\n",
    "users_activity_df['hotel'] = users_activity_df['hotel'].astype(str)\n",
    "users_activity_df.groupby(['user'])['hotel'].apply(','.join).reset_index()"
   ]
  }
 ],
 "metadata": {
  "kernelspec": {
   "display_name": "Python 2",
   "language": "python",
   "name": "python2"
  },
  "language_info": {
   "codemirror_mode": {
    "name": "ipython",
    "version": 2
   },
   "file_extension": ".py",
   "mimetype": "text/x-python",
   "name": "python",
   "nbconvert_exporter": "python",
   "pygments_lexer": "ipython2",
   "version": "2.7.9"
  }
 },
 "nbformat": 4,
 "nbformat_minor": 2
}
